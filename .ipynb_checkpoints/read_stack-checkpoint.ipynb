{
 "cells": [
  {
   "cell_type": "markdown",
   "metadata": {},
   "source": [
    "# Read stack of dm3 image files\n",
    "\n",
    "This notebook reads a stack of **.dm3** microscopy images\n",
    "for analysis of domain statistics."
   ]
  },
  {
   "cell_type": "code",
   "execution_count": 44,
   "metadata": {},
   "outputs": [],
   "source": [
    "import os\n",
    "import numpy as np\n",
    "\n",
    "# this is the library for reading the dm3 files\n",
    "# install this using 'pip install ncempy'\n",
    "from ncempy.io import dm\n",
    "\n",
    "import matplotlib.pyplot as plt\n",
    "# change matplotlib settings to make plots look nicer\n",
    "plt.rcParams['xtick.labelsize'] = 18\n",
    "plt.rcParams['ytick.labelsize'] = 18\n",
    "plt.rcParams['axes.linewidth'] = 3\n",
    "plt.rcParams['xtick.minor.width'] = 3\n",
    "plt.rcParams['xtick.major.width'] = 3\n",
    "plt.rcParams['ytick.minor.width'] = 3\n",
    "plt.rcParams['ytick.major.width'] = 3"
   ]
  },
  {
   "cell_type": "code",
   "execution_count": 45,
   "metadata": {},
   "outputs": [],
   "source": [
    "# identify the image stack filename\n",
    "stack_filename = 'stack_pure_ZrO2-24%_25%_10_pics_each_26%_after_200us_1Hz.dm3'\n",
    "\n",
    "# get full path of the image stack file\n",
    "stack_path = os.path.join(os.getcwd(), stack_filename)"
   ]
  },
  {
   "cell_type": "code",
   "execution_count": 46,
   "metadata": {},
   "outputs": [],
   "source": [
    "def plot_setup(labels=['X', 'Y'], fsize=18, title=''):\n",
    "    \"\"\"Creates a custom plot configuration to make graphs look nice.\n",
    "    This should be called between plt.plot() and plt.show() commands.\"\"\"\n",
    "    plt.xlabel(str(labels[0]), fontsize=fsize)\n",
    "    plt.ylabel(str(labels[1]), fontsize=fsize)\n",
    "    plt.title(title, fontsize=fsize)\n",
    "    fig = plt.gcf()\n",
    "    fig.set_size_inches(6, 6)\n",
    "\n",
    "def read_stack(filepath):\n",
    "    \"\"\"Read dm3 stack file and get image information.\"\"\"\n",
    "    data = dm.dmReader(filepath)\n",
    "    x_span = data['pixelSize'][1]*len(data['data'][1])\n",
    "    y_span = data['pixelSize'][2]*len(data['data'][2])\n",
    "    data['label'] = filepath.split('/')[-1].split('.dm3')[0]\n",
    "    data['span'] = (0, x_span, 0, y_span)\n",
    "    return data"
   ]
  },
  {
   "cell_type": "markdown",
   "metadata": {},
   "source": [
    "### Read the file"
   ]
  },
  {
   "cell_type": "code",
   "execution_count": null,
   "metadata": {},
   "outputs": [],
   "source": [
    "# read stack data\n",
    "d = read_stack(stack_path)\n",
    "\n",
    "# examine the data\n",
    "for key in d:\n",
    "    print('{}: {}'.format(key, d[key]))"
   ]
  },
  {
   "cell_type": "code",
   "execution_count": null,
   "metadata": {},
   "outputs": [],
   "source": [
    "for i in range(1, d['data'].shape[0]):\n",
    "    plt.imshow(d['data'][i-1, :, :],\n",
    "               cmap='gray',\n",
    "               extent=d['span'],\n",
    "               origin='lower')\n",
    "    plot_setup()\n",
    "    plt.show()\n"
   ]
  },
  {
   "cell_type": "code",
   "execution_count": null,
   "metadata": {},
   "outputs": [],
   "source": []
  }
 ],
 "metadata": {
  "kernelspec": {
   "display_name": "Python 3",
   "language": "python",
   "name": "python3"
  },
  "language_info": {
   "codemirror_mode": {
    "name": "ipython",
    "version": 3
   },
   "file_extension": ".py",
   "mimetype": "text/x-python",
   "name": "python",
   "nbconvert_exporter": "python",
   "pygments_lexer": "ipython3",
   "version": "3.7.1"
  }
 },
 "nbformat": 4,
 "nbformat_minor": 4
}
