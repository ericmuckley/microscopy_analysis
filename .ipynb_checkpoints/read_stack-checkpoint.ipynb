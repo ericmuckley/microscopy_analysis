{
 "cells": [
  {
   "cell_type": "markdown",
   "metadata": {},
   "source": [
    "# Read stack of dm3 image files\n",
    "\n",
    "This notebook reads a stack of **.dm3** microscopy images\n",
    "for analysis of domain statistics."
   ]
  },
  {
   "cell_type": "code",
   "execution_count": 44,
   "metadata": {},
   "outputs": [],
   "source": [
    "import os\n",
    "import numpy as np\n",
    "\n",
    "# this is the library for reading the dm3 files\n",
    "# install this using 'pip install ncempy'\n",
    "from ncempy.io import dm\n",
    "\n",
    "import matplotlib.pyplot as plt\n",
    "# change matplotlib settings to make plots look nicer\n",
    "plt.rcParams['xtick.labelsize'] = 18\n",
    "plt.rcParams['ytick.labelsize'] = 18\n",
    "plt.rcParams['axes.linewidth'] = 3\n",
    "plt.rcParams['xtick.minor.width'] = 3\n",
    "plt.rcParams['xtick.major.width'] = 3\n",
    "plt.rcParams['ytick.minor.width'] = 3\n",
    "plt.rcParams['ytick.major.width'] = 3"
   ]
  },
  {
   "cell_type": "code",
   "execution_count": 45,
   "metadata": {},
   "outputs": [],
   "source": [
    "# identify the image stack filename\n",
    "stack_filename = 'stack_pure_ZrO2-24%_25%_10_pics_each_26%_after_200us_1Hz.dm3'\n",
    "\n",
    "# get full path of the image stack file\n",
    "stack_path = os.path.join(os.getcwd(), stack_filename)"
   ]
  },
  {
   "cell_type": "code",
   "execution_count": 46,
   "metadata": {},
   "outputs": [],
   "source": [
    "def plot_setup(labels=['X', 'Y'], fsize=18, title=''):\n",
    "    \"\"\"Creates a custom plot configuration to make graphs look nice.\n",
    "    This should be called between plt.plot() and plt.show() commands.\"\"\"\n",
    "    plt.xlabel(str(labels[0]), fontsize=fsize)\n",
    "    plt.ylabel(str(labels[1]), fontsize=fsize)\n",
    "    plt.title(title, fontsize=fsize)\n",
    "    fig = plt.gcf()\n",
    "    fig.set_size_inches(6, 6)\n",
    "\n",
    "def read_stack(filepath):\n",
    "    \"\"\"Read dm3 stack file and get image information.\"\"\"\n",
    "    data = dm.dmReader(filepath)\n",
    "    x_span = data['pixelSize'][1]*len(data['data'][1])\n",
    "    y_span = data['pixelSize'][2]*len(data['data'][2])\n",
    "    data['label'] = filepath.split('/')[-1].split('.dm3')[0]\n",
    "    data['span'] = (0, x_span, 0, y_span)\n",
    "    return data"
   ]
  },
  {
   "cell_type": "markdown",
   "metadata": {},
   "source": [
    "### Read the file"
   ]
  },
  {
   "cell_type": "code",
   "execution_count": 47,
   "metadata": {},
   "outputs": [
    {
     "name": "stdout",
     "output_type": "stream",
     "text": [
      "filename: stack_pure_ZrO2-24%_25%_10_pics_each_26%_after_200us_1Hz.dm3\n",
      "data: [[[1127 1197 1230 ... 1749 1662 1651]\n",
      "  [ 996 1095 1164 ... 1703 1642 1661]\n",
      "  [1134 1127 1158 ... 1741 1708 1618]\n",
      "  ...\n",
      "  [1565 1786 1770 ... 1676 1726 1721]\n",
      "  [1688 1869 1777 ... 1764 1722 1838]\n",
      "  [1707 1824 1660 ... 1717 1684 1750]]\n",
      "\n",
      " [[1136 1067 1289 ... 1691 1762 1698]\n",
      "  [1096 1118 1231 ... 1725 1463 1549]\n",
      "  [1193 1234 1206 ... 1656 1557 1513]\n",
      "  ...\n",
      "  [1491 1498 1473 ... 1570 1616 1491]\n",
      "  [1534 1564 1524 ... 1711 1560 1491]\n",
      "  [1711 1654 1567 ... 1658 1547 1483]]\n",
      "\n",
      " [[1570 1553 1651 ... 1602 1679 1633]\n",
      "  [1815 1645 1679 ... 1653 1737 1750]\n",
      "  [1781 1682 1705 ... 1722 1694 1741]\n",
      "  ...\n",
      "  [1796 1693 1608 ... 1449 1411 1465]\n",
      "  [1792 1680 1564 ... 1604 1426 1316]\n",
      "  [1604 1591 1493 ... 1616 1546 1515]]\n",
      "\n",
      " ...\n",
      "\n",
      " [[1377 1533 1604 ... 1407 1474 1680]\n",
      "  [1309 1381 1454 ... 1410 1435 1597]\n",
      "  [1273 1295 1311 ... 1567 1580 1556]\n",
      "  ...\n",
      "  [1425 1528 1531 ... 1689 1647 1635]\n",
      "  [1512 1721 1587 ... 1538 1660 1677]\n",
      "  [1642 1721 1541 ... 1626 1567 1650]]\n",
      "\n",
      " [[1450 1323 1455 ... 1527 1565 1500]\n",
      "  [1283 1266 1366 ... 1450 1562 1575]\n",
      "  [1391 1315 1423 ... 1306 1456 1434]\n",
      "  ...\n",
      "  [1372 1469 1507 ... 1546 1485 1460]\n",
      "  [1441 1466 1454 ... 1472 1492 1484]\n",
      "  [1544 1497 1545 ... 1614 1605 1568]]\n",
      "\n",
      " [[1871 1933 1809 ... 1389 1348 1268]\n",
      "  [1839 1736 1707 ... 1394 1473 1281]\n",
      "  [1840 1687 1730 ... 1506 1391 1275]\n",
      "  ...\n",
      "  [1415 1485 1492 ... 1580 1740 1663]\n",
      "  [1632 1684 1598 ... 1703 1665 1516]\n",
      "  [1689 1609 1591 ... 1681 1650 1399]]]\n",
      "pixelUnit: ['', '', '']\n",
      "pixelSize: [1.0, 1.0, 1.0]\n",
      "pixelOrigin: [0.0, 0.0, 0.0]\n",
      "label: C:\\Users\\Eric\\Documents\\GitHub\\microscopy_analysis\\stack_pure_ZrO2-24%_25%_10_pics_each_26%_after_200us_1Hz\n",
      "span: (0, 2048.0, 0, 2048.0)\n"
     ]
    }
   ],
   "source": [
    "# read stack data\n",
    "d = read_stack(stack_path)\n",
    "\n",
    "# examine the data\n",
    "for key in d:\n",
    "    print('{}: {}'.format(key, d[key]))"
   ]
  },
  {
   "cell_type": "code",
   "execution_count": 50,
   "metadata": {},
   "outputs": [
    {
     "name": "stdout",
     "output_type": "stream",
     "text": [
      "3147 107\n",
      "3389 116\n",
      "3389 119\n",
      "3684 115\n",
      "3622 124\n",
      "4023 110\n",
      "4246 113\n",
      "4819 102\n",
      "3009 104\n",
      "2862 110\n",
      "3309 104\n",
      "4632 120\n",
      "3783 129\n",
      "4723 123\n",
      "4073 111\n",
      "4219 117\n",
      "3505 116\n",
      "3539 115\n",
      "3763 111\n",
      "2466 118\n",
      "3704 118\n",
      "4693 116\n",
      "4616 110\n",
      "3738 128\n",
      "3282 118\n",
      "3758 120\n",
      "3994 116\n",
      "3548 132\n",
      "4174 113\n",
      "4260 117\n",
      "3026 130\n",
      "3229 114\n",
      "2637 102\n",
      "3827 116\n",
      "3268 111\n",
      "3246 127\n",
      "3573 132\n",
      "3766 114\n",
      "4670 119\n"
     ]
    }
   ],
   "source": [
    "for i in range(1, d['data'].shape[0]):\n",
    "    \n",
    "    img = d['data'][i-1, :, :]\n",
    "    print(img.max(), img.min())\n",
    "    \n",
    "    '''\n",
    "    plt.imshow(d['data'][i-1, :, :],\n",
    "               cmap='gray',\n",
    "               extent=d['span'],\n",
    "               origin='lower')\n",
    "    plot_setup()\n",
    "    plt.show()\n",
    "    '''"
   ]
  },
  {
   "cell_type": "code",
   "execution_count": null,
   "metadata": {},
   "outputs": [],
   "source": []
  }
 ],
 "metadata": {
  "kernelspec": {
   "display_name": "Python 3",
   "language": "python",
   "name": "python3"
  },
  "language_info": {
   "codemirror_mode": {
    "name": "ipython",
    "version": 3
   },
   "file_extension": ".py",
   "mimetype": "text/x-python",
   "name": "python",
   "nbconvert_exporter": "python",
   "pygments_lexer": "ipython3",
   "version": "3.7.1"
  }
 },
 "nbformat": 4,
 "nbformat_minor": 4
}
